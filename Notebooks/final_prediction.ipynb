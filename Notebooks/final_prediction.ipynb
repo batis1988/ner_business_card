{
 "cells": [
  {
   "cell_type": "code",
   "execution_count": 1,
   "id": "03d6c15f-5463-474d-a381-16d6a73093ca",
   "metadata": {},
   "outputs": [],
   "source": [
    "import cv2\n",
    "import predictions as pred"
   ]
  },
  {
   "cell_type": "code",
   "execution_count": 2,
   "id": "fa6b4f69-d1a4-47f2-b5f9-5a7db0130a43",
   "metadata": {},
   "outputs": [],
   "source": [
    "img = cv2.imread('./data/54.jpg')\n",
    "\n",
    "cv2.startWindowThread()\n",
    "cv2.namedWindow('original', cv2.WINDOW_NORMAL)\n",
    "cv2.imshow('original', img)\n",
    "cv2.waitKey(1)\n",
    "cv2.destroyAllWindows()\n"
   ]
  },
  {
   "cell_type": "code",
   "execution_count": 3,
   "id": "bad7ef9e-7c40-4fdc-8b4c-704b78dfcad2",
   "metadata": {},
   "outputs": [
    {
     "name": "stdout",
     "output_type": "stream",
     "text": [
      "stanford stanford @ medicine cardiovascular institute joseph c. wu, md, phd director, stanford cardiovascular institute professor medicine cardiology radiology 265 campus drive, g-1120b re 650 736-2246 stanford, ca 94305, mc-5454 httpwulab.stanford.edu joewu@stanford.edu httpevistanford.edu\n",
      "{'NAME': ['Joseph C Wu'], 'ORG': ['Medicine Cardiovascular Institute'], 'DES': ['Director'], 'PHONE': ['736'], 'EMAIL': ['httpwulab.stanford.edu', 'joewu@stanford.eduhttpevistanford.edu'], 'WEB': []}\n"
     ]
    }
   ],
   "source": [
    "content, img_results, entities = pred.get_predictions(img)\n",
    "\n",
    "print(content)\n",
    "print(entities)\n",
    "cv2.startWindowThread()\n",
    "cv2.namedWindow('predictions', cv2.WINDOW_NORMAL)\n",
    "cv2.imshow('predictions', img_results)\n",
    "cv2.waitKey(1)\n",
    "cv2.destroyAllWindows()\n",
    "\n"
   ]
  },
  {
   "cell_type": "code",
   "execution_count": null,
   "id": "bbd6ee28-a631-474f-b0c6-5f840e7f4dda",
   "metadata": {},
   "outputs": [],
   "source": []
  }
 ],
 "metadata": {
  "kernelspec": {
   "display_name": "Python 3 (ipykernel)",
   "language": "python",
   "name": "python3"
  },
  "language_info": {
   "codemirror_mode": {
    "name": "ipython",
    "version": 3
   },
   "file_extension": ".py",
   "mimetype": "text/x-python",
   "name": "python",
   "nbconvert_exporter": "python",
   "pygments_lexer": "ipython3",
   "version": "3.9.13"
  }
 },
 "nbformat": 4,
 "nbformat_minor": 5
}
